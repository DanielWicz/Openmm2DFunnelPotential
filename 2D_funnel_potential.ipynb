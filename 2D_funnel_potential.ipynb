{
 "cells": [
  {
   "cell_type": "markdown",
   "id": "b1d88ec4",
   "metadata": {},
   "source": [
    "# How to use 2D Funnel potential with OpenMM MD Framework"
   ]
  },
  {
   "cell_type": "markdown",
   "id": "59d58d23",
   "metadata": {},
   "source": [
    "In this Notebook we will try to apply 2D funnel potential in OpenMM to test sampling efficiency of MD simulations.\n",
    "You can use this potential for various testing purporses "
   ]
  },
  {
   "cell_type": "code",
   "execution_count": 1,
   "id": "2bda2a18",
   "metadata": {},
   "outputs": [],
   "source": [
    "# if you copy and paste the code, remember to make appropiate imports\n",
    "from simtk.unit import kelvin, picosecond, femtosecond, nanosecond, nanometer, amu, angstrom\n",
    "import simtk.openmm as mm\n",
    "import simtk.openmm.app as amm\n",
    "import matplotlib.pyplot as plt\n",
    "import numpy as np"
   ]
  },
  {
   "cell_type": "markdown",
   "id": "13287f8c",
   "metadata": {},
   "source": [
    "### Definition of the 2D potential"
   ]
  },
  {
   "cell_type": "code",
   "execution_count": 2,
   "id": "6152f511",
   "metadata": {},
   "outputs": [],
   "source": [
    "\"\"\"Propagating 2D dynamics on the 2D funnel potential using OpenMM.\n",
    "Currently, ana harmonic restraint on the z coordinate is put,\n",
    "since OpenMM needs to work in 3D. This isn't really a big deal, except\n",
    "that it affects the meaning of the temperature and kinetic energy. So\n",
    "take the meaning of those numbers with a grain of salt.\n",
    "Based on the gist of David de Sancho: \n",
    "https://gist.github.com/daviddesancho/94c2a32f12f897fb68536f723c783a0b#file-openmuller-py\n",
    "\"\"\"\n",
    "\n",
    "class TwoDFunnel(mm.CustomExternalForce):\n",
    "    \"\"\"OpenMM custom force for propagation on the 2D Funnel Potential. Also\n",
    "    includes pure python evaluation of the potential energy surface so that\n",
    "    you can do some plotting\"\"\"\n",
    "\n",
    "    def __init__(self):\n",
    "        # start with a harmonic restraint on the Z coordinate\n",
    "        expression = '2*cos(2*sqrt(x^2+y^2)) - 8*exp(-(x^2+y^2)) + 0.2*((x/8)^2+(y/8)^2)^3 + 1000.0 * z^2'\n",
    "        super(TwoDFunnel, self).__init__(expression)\n",
    "    \n",
    "    @classmethod\n",
    "    def potential(cls, x, y):\n",
    "        \"Compute the potential at a given point x,y\"\n",
    "        value = 2*np.cos(2*np.sqrt(x**2+y**2)) - 8*np.exp(-(x**2+y**2)) + 0.2*((x/8)**2+(y/8)**2)**3\n",
    "        return value\n",
    "\n",
    "    @classmethod\n",
    "    def plot(cls, ax=None, minx=-11.0, maxx=11.0, miny=-11.0, maxy=11.0, **kwargs):\n",
    "        \"Plot the 2D funnel potential\"\n",
    "        grid_res = 1000\n",
    "        grid_width = max(maxx-minx, maxy-miny) / grid_res\n",
    "        ax = kwargs.pop('ax', None)\n",
    "        xx, yy = np.mgrid[minx : maxx : grid_width, miny : maxy : grid_width]\n",
    "        V = cls.potential(xx, yy)\n",
    "        # clip off any values greater than grid_res, since they mess up\n",
    "        # the color scheme\n",
    "        if ax is None:\n",
    "            # it requires plt object from matplotlib so import accordingly \n",
    "            ax = plt\n",
    "        f = ax.contourf(xx, yy, V, 8, nchunk=3,**kwargs)\n",
    "        plt.colorbar(f)\n",
    "\n",
    "\n"
   ]
  },
  {
   "cell_type": "markdown",
   "id": "ed35893b",
   "metadata": {},
   "source": [
    "### Define the parameters and system"
   ]
  },
  {
   "cell_type": "code",
   "execution_count": 3,
   "id": "44ce4730",
   "metadata": {},
   "outputs": [
    {
     "data": {
      "text/plain": [
       "0"
      ]
     },
     "execution_count": 3,
     "metadata": {},
     "output_type": "execute_result"
    }
   ],
   "source": [
    "# each particle is totally independent, propagating under the same potential\n",
    "nParticles = 10\n",
    "mass = 1000 * amu\n",
    "temperature = 750 * kelvin\n",
    "friction = 100 / picosecond\n",
    "timestep = 10.0 * femtosecond\n",
    "\n",
    "\n",
    "# Choose starting conformations uniform on the grid so that it's r=10 away from the center of the 2D potential\n",
    "r = np.array([10] * nParticles)\n",
    "startingPositions = (np.random.rand(nParticles, 3) * np.array([20, 20, 0])) + np.array([-10, -10, 0])\n",
    "while True:\n",
    "    mask = np.isclose(np.sum(startingPositions**2, axis=1), r**2)\n",
    "    if np.all(mask):\n",
    "        break\n",
    "    else:\n",
    "        mask = mask.reshape(nParticles, 1)\n",
    "        # save candidates that meet our criteria\n",
    "        prev_startingPositions = startingPositions\n",
    "        startingPositions = (np.random.rand(nParticles, 3) * np.array([20, 20, 0])) + np.array([-10, -10, 0])\n",
    "        startingPositions = startingPositions * ~mask + prev_startingPositions * mask\n",
    "\n",
    "\n",
    "# define 2D funnel potential\n",
    "twodfunnelforce = TwoDFunnel()\n",
    "\n",
    "system = mm.System()\n",
    "topology = mm.app.topology.Topology()\n",
    "chain = topology.addChain(\"A\")\n",
    "res = topology.addResidue(\"1\", chain)\n",
    "# We add mass of the particle later, Hydrogen is used only as a technical trick here\n",
    "# The hydrogen does not interact with other particles\n",
    "# Because nonbonded forces are not added to the system\n",
    "element = amm.element.Element.getBySymbol('H')\n",
    "twodfunnelforce = TwoDFunnel()\n",
    "\n",
    "for i in range(nParticles):\n",
    "    # Add particles of mass `mass` to the simulation\n",
    "    ind = system.addParticle(mass)\n",
    "    # Add the particle to the defined 2D potential\n",
    "    twodfunnelforce.addParticle(ind, [])\n",
    "    # Create topology for the molecules\n",
    "    topology.addAtom('X'+str(i), element, res, ind)\n",
    "system.addForce(twodfunnelforce)"
   ]
  },
  {
   "cell_type": "markdown",
   "id": "8ba19dfe",
   "metadata": {},
   "source": [
    "### Define OpenMM objects"
   ]
  },
  {
   "cell_type": "code",
   "execution_count": 4,
   "id": "4f0cfd31",
   "metadata": {},
   "outputs": [],
   "source": [
    "integrator = mm.LangevinMiddleIntegrator(temperature, friction, timestep)\n",
    "simulation = amm.Simulation(topology, system, integrator)\n",
    "simulation.context.setPositions(startingPositions)\n",
    "simulation.context.setVelocitiesToTemperature(temperature)\n",
    "context = simulation.context"
   ]
  },
  {
   "cell_type": "markdown",
   "id": "06b05cd4",
   "metadata": {},
   "source": [
    "### Start simulation and plot every N steps a black dot for every position of every particle"
   ]
  },
  {
   "cell_type": "code",
   "execution_count": 5,
   "id": "2dd5fd6f",
   "metadata": {},
   "outputs": [
    {
     "data": {
      "image/png": "[encoded data removed]",
      "text/plain": [
       "<Figure size 432x288 with 2 Axes>"
      ]
     },
     "metadata": {
      "needs_background": "light"
     },
     "output_type": "display_data"
    }
   ],
   "source": [
    "TwoDFunnel.plot(ax=plt.gca())\n",
    "\n",
    "for i in range(1000):\n",
    "    x = context.getState(getPositions=True).getPositions(asNumpy=True).value_in_unit(nanometer)\n",
    "    plt.scatter(x[:,0], x[:,1], edgecolor='none', facecolor='k')\n",
    "    integrator.step(250)\n",
    "plt.show()"
   ]
  },
  {
   "cell_type": "code",
   "execution_count": null,
   "id": "8a15e17f",
   "metadata": {},
   "outputs": [],
   "source": []
  }
 ],
 "metadata": {
  "kernelspec": {
   "display_name": "Python 3 (ipykernel)",
   "language": "python",
   "name": "python3"
  },
  "language_info": {
   "codemirror_mode": {
    "name": "ipython",
    "version": 3
   },
   "file_extension": ".py",
   "mimetype": "text/x-python",
   "name": "python",
   "nbconvert_exporter": "python",
   "pygments_lexer": "ipython3",
   "version": "3.7.9"
  }
 },
 "nbformat": 4,
 "nbformat_minor": 5
}
